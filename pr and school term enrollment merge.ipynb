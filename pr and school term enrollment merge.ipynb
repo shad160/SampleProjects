{
 "cells": [
  {
   "cell_type": "code",
   "execution_count": 1,
   "metadata": {},
   "outputs": [],
   "source": [
    "import pandas as pd"
   ]
  },
  {
   "cell_type": "code",
   "execution_count": 28,
   "metadata": {},
   "outputs": [
    {
     "name": "stdout",
     "output_type": "stream",
     "text": [
      "WARNING *** file size (4606101) not 512 + multiple of sector size (512)\n",
      "WARNING *** OLE2 inconsistency: SSCS size is 0 but SSAT size is non-zero\n"
     ]
    }
   ],
   "source": [
    "prs = pd.read_excel(\"Combined PR Lists.xls\")\n",
    "ste = pd.read_excel(\"School Term Enrollment EP 20093 to 20193.xlsx\", sheet_name= 'Sheet1')\n",
    "ste20203 = pd.read_excel(\"School Term Enrollment Fall 2020 9.24.20.xls\")"
   ]
  },
  {
   "cell_type": "code",
   "execution_count": 29,
   "metadata": {},
   "outputs": [],
   "source": [
    "ste = ste.append(ste20203)"
   ]
  },
  {
   "cell_type": "code",
   "execution_count": 4,
   "metadata": {},
   "outputs": [
    {
     "name": "stdout",
     "output_type": "stream",
     "text": [
      "<class 'pandas.core.frame.DataFrame'>\n",
      "RangeIndex: 31157 entries, 0 to 31156\n",
      "Data columns (total 38 columns):\n",
      " #   Column                           Non-Null Count  Dtype         \n",
      "---  ------                           --------------  -----         \n",
      " 0   Unnamed: 0                       31157 non-null  int64         \n",
      " 1   Term                             31157 non-null  int64         \n",
      " 2   Pool                             31157 non-null  object        \n",
      " 3   Department                       31157 non-null  object        \n",
      " 4   PID                              31157 non-null  object        \n",
      " 5   First_Name                       31157 non-null  object        \n",
      " 6   Last_Name                        31157 non-null  object        \n",
      " 7   ae_email_address                 27680 non-null  object        \n",
      " 8   em_email_address                 6195 non-null   object        \n",
      " 9   Decision                         31153 non-null  object        \n",
      " 10  Decision_Group                   31153 non-null  object        \n",
      " 11  Reply                            12365 non-null  object        \n",
      " 12  Going_To_Inst_Code               555 non-null    object        \n",
      " 13  Going_To_Inst_Name               555 non-null    object        \n",
      " 14  Reason                           1268 non-null   object        \n",
      " 15  Admissions_Office                31157 non-null  object        \n",
      " 16  mom_email                        0 non-null      float64       \n",
      " 17  dad_email                        0 non-null      float64       \n",
      " 18  Application_Received_Date        31157 non-null  datetime64[ns]\n",
      " 19  Citizenship                      31119 non-null  object        \n",
      " 20  Visa_Code                        31047 non-null  object        \n",
      " 21  Decision_Date                    31153 non-null  datetime64[ns]\n",
      " 22  MPVD_school                      20 non-null     object        \n",
      " 23  birth_date                       31155 non-null  datetime64[ns]\n",
      " 24  decision_reply_date              12365 non-null  datetime64[ns]\n",
      " 25  flag8                            681 non-null    object        \n",
      " 26  gender                           31148 non-null  object        \n",
      " 27  ethnicity                        30051 non-null  object        \n",
      " 28  hispanic_latino_flag             30739 non-null  object        \n",
      " 29  white_origin_flag                30739 non-null  object        \n",
      " 30  black_african_american_flag      30739 non-null  object        \n",
      " 31  asian_origin_flag                30739 non-null  object        \n",
      " 32  amer_indian_alaskan_native_flag  30739 non-null  object        \n",
      " 33  hawaiin_pacific_islander_flag    30739 non-null  object        \n",
      " 34  nonresident_alien_flag           30739 non-null  object        \n",
      " 35  UNI                              12618 non-null  object        \n",
      " 36  ODEP_Notes                       16997 non-null  object        \n",
      " 37  Data_Refresh_Date                31157 non-null  datetime64[ns]\n",
      "dtypes: datetime64[ns](5), float64(2), int64(2), object(29)\n",
      "memory usage: 9.0+ MB\n"
     ]
    }
   ],
   "source": [
    "prs.info()"
   ]
  },
  {
   "cell_type": "code",
   "execution_count": 30,
   "metadata": {},
   "outputs": [
    {
     "name": "stdout",
     "output_type": "stream",
     "text": [
      "<class 'pandas.core.frame.DataFrame'>\n",
      "Int64Index: 59634 entries, 0 to 4136\n",
      "Data columns (total 32 columns):\n",
      " #   Column               Non-Null Count  Dtype         \n",
      "---  ------               --------------  -----         \n",
      " 0   Term                 59634 non-null  int64         \n",
      " 1   School               59634 non-null  object        \n",
      " 2   last_name            59634 non-null  object        \n",
      " 3   first_name           59634 non-null  object        \n",
      " 4   DOB                  59626 non-null  datetime64[ns]\n",
      " 5   Department           59634 non-null  object        \n",
      " 6   Billing_Program      59634 non-null  object        \n",
      " 7   Student_Status       59634 non-null  object        \n",
      " 8   Transfer_Flag        79 non-null     object        \n",
      " 9   Standing_Year        59634 non-null  int64         \n",
      " 10  Term_Count           59634 non-null  int64         \n",
      " 11  Email_Address        26328 non-null  object        \n",
      " 12  Campus               59634 non-null  object        \n",
      " 13  pid                  59634 non-null  object        \n",
      " 14  deal_code            709 non-null    object        \n",
      " 15  gender               59617 non-null  object        \n",
      " 16  campus               59634 non-null  object        \n",
      " 17  enroll_status        59634 non-null  object        \n",
      " 18  points_attempt       59634 non-null  float64       \n",
      " 19  directory_release    59634 non-null  object        \n",
      " 20  exp_grad_term        15675 non-null  float64       \n",
      " 21  uni                  59631 non-null  object        \n",
      " 22  ucn                  47432 non-null  float64       \n",
      " 23  degree               59634 non-null  object        \n",
      " 24  Data_Refresh_Date    59634 non-null  datetime64[ns]\n",
      " 25  Ethnicity            59634 non-null  object        \n",
      " 26  US_Citz_Status       59634 non-null  object        \n",
      " 27  Visa_Type            59346 non-null  object        \n",
      " 28  Citizenship_Country  59634 non-null  object        \n",
      " 29  ipeds_ethnicity      58418 non-null  float64       \n",
      " 30  ipeds_long_name      58418 non-null  object        \n",
      " 31  expgradterm          3660 non-null   float64       \n",
      "dtypes: datetime64[ns](2), float64(5), int64(3), object(22)\n",
      "memory usage: 15.0+ MB\n"
     ]
    }
   ],
   "source": [
    "ste.info()"
   ]
  },
  {
   "cell_type": "code",
   "execution_count": 32,
   "metadata": {},
   "outputs": [],
   "source": [
    "ste = ste[['pid','ipeds_long_name']]\n",
    "ste = ste.drop_duplicates(subset='pid',keep='last')"
   ]
  },
  {
   "cell_type": "code",
   "execution_count": 37,
   "metadata": {},
   "outputs": [],
   "source": [
    "merge = pd.merge(prs,ste, left_on = 'PID', right_on = 'pid', how = 'left')"
   ]
  },
  {
   "cell_type": "code",
   "execution_count": 38,
   "metadata": {},
   "outputs": [],
   "source": [
    "merge = merge.drop_duplicates(subset='PID',keep='first')"
   ]
  },
  {
   "cell_type": "code",
   "execution_count": 39,
   "metadata": {},
   "outputs": [],
   "source": [
    "merge.to_excel(\"prs with ipeds2.xlsx\")"
   ]
  },
  {
   "cell_type": "code",
   "execution_count": null,
   "metadata": {},
   "outputs": [],
   "source": []
  }
 ],
 "metadata": {
  "kernelspec": {
   "display_name": "Python 3",
   "language": "python",
   "name": "python3"
  },
  "language_info": {
   "codemirror_mode": {
    "name": "ipython",
    "version": 3
   },
   "file_extension": ".py",
   "mimetype": "text/x-python",
   "name": "python",
   "nbconvert_exporter": "python",
   "pygments_lexer": "ipython3",
   "version": "3.7.6"
  }
 },
 "nbformat": 4,
 "nbformat_minor": 4
}
